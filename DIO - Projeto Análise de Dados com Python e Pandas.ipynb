{
 "cells": [
  {
   "cell_type": "raw",
   "id": "closed-black",
   "metadata": {},
   "source": [
    "DIO - Bootcamp - Cognizant Cloud Data Engineer\n",
    "Projeto - Análise de dados com Python e Pandas\n",
    "\n",
    "Sobre a base de dados:\n",
    "Contém as aeronaves não tripuladas cadastradas em cumprimento ao parágrafo E94.301(b) do RBAC-E No 94.\n",
    "Dados extraídos do SISANT – Sistema da Aeronave Não Tripulada, onde são cadastradas aeronaves não tripuladas, de uso exclusivo: Recreativo; ou Não recreativo, limitado a 25kg de peso máximo de decolagem, que não voará além da linha de visada visual (BVLOS) ou acima de 400 pés ou 120 metros acima do nível do solo (AGL).\n",
    "\n",
    "Fonte: Aeronaves - Drones cadastrados\n",
    "\n",
    "https://dados.gov.br/dataset/aeronaves-drones-cadastrados"
   ]
  },
  {
   "cell_type": "code",
   "execution_count": null,
   "id": "infrared-reynolds",
   "metadata": {},
   "outputs": [],
   "source": [
    "import pandas as pd\n",
    "import matplotlib.pyplot as plt"
   ]
  },
  {
   "cell_type": "code",
   "execution_count": null,
   "id": "objective-paraguay",
   "metadata": {
    "scrolled": true
   },
   "outputs": [],
   "source": [
    "#Carregar o arquivo, trazendo apenas algumas colunas e alterando nomes das colunas\n",
    "dfdrone = pd.read_excel(\"sisant_v2.xlsx\",names=['Data_Validade','Operador','Tipo_Uso','Fabricante','Modelo','Cidade_Estado','Ramo_De_Atividade'],usecols ='B,C,E:G,J:K')\n",
    "dfdrone['Data_Validade'] = pd.to_datetime(dfdrone['Data_Validade'], format='%Y-%m-%d')\n",
    "dfdrone.head()"
   ]
  },
  {
   "cell_type": "code",
   "execution_count": null,
   "id": "spatial-horror",
   "metadata": {
    "scrolled": false
   },
   "outputs": [],
   "source": [
    "#verificando o dataframe\n",
    "dfdrone.info()"
   ]
  },
  {
   "cell_type": "code",
   "execution_count": null,
   "id": "systematic-beatles",
   "metadata": {
    "scrolled": true
   },
   "outputs": [],
   "source": [
    "#Separando Cidade e Estado\n",
    "dfdrone['Estado'] = [x.rsplit(\"-\", 1)[-1] for x in dfdrone['Cidade_Estado']]\n",
    "dfdrone['Cidade'] = [x.rsplit(\"-\", 1)[0] for x in dfdrone['Cidade_Estado']]\n",
    "dfdrone.drop('Cidade_Estado', axis=1, inplace=True)\n",
    "#dfdrone.head()"
   ]
  },
  {
   "cell_type": "code",
   "execution_count": null,
   "id": "meaningful-botswana",
   "metadata": {
    "scrolled": true
   },
   "outputs": [],
   "source": [
    "dfdrone.groupby(['Estado']).Estado.count()"
   ]
  },
  {
   "cell_type": "code",
   "execution_count": null,
   "id": "compound-underwear",
   "metadata": {},
   "outputs": [],
   "source": [
    "#Exclui linhas onde não há Estado\n",
    "dfdrone.drop(dfdrone.loc[dfdrone['Estado']==''].index, inplace=True)"
   ]
  },
  {
   "cell_type": "code",
   "execution_count": null,
   "id": "other-anger",
   "metadata": {},
   "outputs": [],
   "source": [
    "#Adicionar coluna Região\n",
    "dfdrone['Regiao']=''\n",
    "dfdrone.loc[dfdrone.Estado.isin(['SP','MG','ES','RJ']),'Regiao'] = 'SUDESTE'\n",
    "dfdrone.loc[dfdrone.Estado.isin(['RS','SC','PR']),'Regiao'] = 'SUL'\n",
    "dfdrone.loc[dfdrone.Estado.isin(['GO','DF','MS','MT']),'Regiao'] = 'CENTRO-OESTE'\n",
    "dfdrone.loc[dfdrone.Estado.isin(['BA','SE','AL','PB','PE','RN','CE','PI','MA']),'Regiao'] = 'NORDESTE'\n",
    "dfdrone.loc[dfdrone.Estado.isin(['TO','PA','AC','RO','RR','AM','AP']),'Regiao'] = 'NORTE'\n",
    "\n",
    "dfdrone.groupby(['Regiao']).Regiao.count().sort_values(ascending=False)"
   ]
  },
  {
   "cell_type": "code",
   "execution_count": null,
   "id": "fleet-liquid",
   "metadata": {},
   "outputs": [],
   "source": [
    "#Usando value_counts()\n",
    "dfdrone['Regiao'].value_counts(ascending=True).plot.barh(title='Número de Registros por Região');"
   ]
  },
  {
   "cell_type": "code",
   "execution_count": null,
   "id": "structural-disco",
   "metadata": {
    "scrolled": false
   },
   "outputs": [],
   "source": [
    "dfdrone.count()"
   ]
  },
  {
   "cell_type": "code",
   "execution_count": null,
   "id": "together-tattoo",
   "metadata": {
    "scrolled": true
   },
   "outputs": [],
   "source": [
    "#Top 10 Operadores\n",
    "dfdrone.groupby(['Operador']).Operador.count().sort_values(ascending=False).nlargest(10)"
   ]
  },
  {
   "cell_type": "code",
   "execution_count": null,
   "id": "elegant-sheffield",
   "metadata": {},
   "outputs": [],
   "source": [
    "#Top 10 Modelos por Região\n",
    "dfdrone['Modelo'].value_counts(ascending=False).nlargest(10)"
   ]
  },
  {
   "cell_type": "code",
   "execution_count": null,
   "id": "younger-miniature",
   "metadata": {
    "scrolled": true
   },
   "outputs": [],
   "source": [
    "#Top 10 Modelos por Região\n",
    "dfdrone.groupby(['Regiao','Modelo']).Modelo.count().sort_values(ascending=False).nlargest(10)"
   ]
  },
  {
   "cell_type": "code",
   "execution_count": null,
   "id": "naked-photographer",
   "metadata": {
    "scrolled": false
   },
   "outputs": [],
   "source": [
    "#Top 10 Fabricantes\n",
    "dfdrone.groupby(['Fabricante']).Fabricante.count().sort_values(ascending=False).nlargest(10)"
   ]
  },
  {
   "cell_type": "code",
   "execution_count": null,
   "id": "italic-strategy",
   "metadata": {
    "scrolled": true
   },
   "outputs": [],
   "source": [
    "dfdrone.groupby(['Ramo_De_Atividade']).Ramo_De_Atividade.count().sort_values(ascending=False)"
   ]
  },
  {
   "cell_type": "code",
   "execution_count": null,
   "id": "material-monte",
   "metadata": {
    "scrolled": true
   },
   "outputs": [],
   "source": [
    "dfdrone.groupby(['Tipo_Uso']).Tipo_Uso.count()"
   ]
  },
  {
   "cell_type": "code",
   "execution_count": null,
   "id": "short-nurse",
   "metadata": {},
   "outputs": [],
   "source": [
    "#Grafico usando value_counts()\n",
    "dfdrone['Tipo_Uso'].value_counts().plot.pie(title='Tipo de Uso',autopct = '%.1f%%');\n",
    "plt.ylabel('')\n",
    "plt.show()"
   ]
  },
  {
   "cell_type": "code",
   "execution_count": null,
   "id": "executed-institute",
   "metadata": {},
   "outputs": [],
   "source": [
    "dfdrone['Data_Validade'].max()"
   ]
  },
  {
   "cell_type": "code",
   "execution_count": null,
   "id": "complimentary-audit",
   "metadata": {},
   "outputs": [],
   "source": [
    "dfdrone['Data_Validade'].min()"
   ]
  }
 ],
 "metadata": {
  "kernelspec": {
   "display_name": "Python 3",
   "language": "python",
   "name": "python3"
  },
  "language_info": {
   "codemirror_mode": {
    "name": "ipython",
    "version": 3
   },
   "file_extension": ".py",
   "mimetype": "text/x-python",
   "name": "python",
   "nbconvert_exporter": "python",
   "pygments_lexer": "ipython3",
   "version": "3.9.1"
  }
 },
 "nbformat": 4,
 "nbformat_minor": 5
}
